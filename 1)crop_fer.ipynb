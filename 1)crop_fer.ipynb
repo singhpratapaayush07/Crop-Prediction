{
  "nbformat": 4,
  "nbformat_minor": 0,
  "metadata": {
    "kernelspec": {
      "display_name": "Python 3",
      "language": "python",
      "name": "python3"
    },
    "language_info": {
      "codemirror_mode": {
        "name": "ipython",
        "version": 3
      },
      "file_extension": ".py",
      "mimetype": "text/x-python",
      "name": "python",
      "nbconvert_exporter": "python",
      "pygments_lexer": "ipython3",
      "version": "3.7.9"
    },
    "papermill": {
      "default_parameters": {},
      "duration": 9.107476,
      "end_time": "2021-03-22T16:34:02.478373",
      "environment_variables": {},
      "exception": null,
      "input_path": "__notebook__.ipynb",
      "output_path": "__notebook__.ipynb",
      "parameters": {},
      "start_time": "2021-03-22T16:33:53.370897",
      "version": "2.2.2"
    },
    "colab": {
      "name": "crop-fer.ipynb",
      "provenance": []
    }
  },
  "cells": [
    {
      "cell_type": "markdown",
      "metadata": {
        "papermill": {
          "duration": 0.017706,
          "end_time": "2021-03-22T16:33:58.856054",
          "exception": false,
          "start_time": "2021-03-22T16:33:58.838348",
          "status": "completed"
        },
        "tags": [],
        "id": "h7ZTgVeXpz-5"
      },
      "source": [
        "**an effort to add a few more features to Crop recommendation dataset**"
      ]
    },
    {
      "cell_type": "code",
      "metadata": {
        "_cell_guid": "b1076dfc-b9ad-4769-8c92-a6c4dae69d19",
        "_uuid": "8f2839f25d086af736a60e9eeb907d3b93b6e0e5",
        "execution": {
          "iopub.execute_input": "2021-03-22T16:33:58.892848Z",
          "iopub.status.busy": "2021-03-22T16:33:58.892212Z",
          "iopub.status.idle": "2021-03-22T16:33:58.915320Z",
          "shell.execute_reply": "2021-03-22T16:33:58.916260Z"
        },
        "papermill": {
          "duration": 0.045029,
          "end_time": "2021-03-22T16:33:58.916699",
          "exception": false,
          "start_time": "2021-03-22T16:33:58.871670",
          "status": "completed"
        },
        "tags": [],
        "id": "dyvXq42xpz_E",
        "outputId": "bcb03f6c-e713-4d92-964f-33ba99e9cf83"
      },
      "source": [
        "# This Python 3 environment comes with many helpful analytics libraries installed\n",
        "# It is defined by the kaggle/python Docker image: https://github.com/kaggle/docker-python\n",
        "# For example, here's several helpful packages to load\n",
        "\n",
        "import numpy as np # linear algebra\n",
        "import pandas as pd # data processing, CSV file I/O (e.g. pd.read_csv)\n",
        "\n",
        "# Input data files are available in the read-only \"../input/\" directory\n",
        "# For example, running this (by clicking run or pressing Shift+Enter) will list all files under the input directory\n",
        "\n",
        "import os\n",
        "for dirname, _, filenames in os.walk('/kaggle/input'):\n",
        "    for filename in filenames:\n",
        "        print(os.path.join(dirname, filename))\n",
        "\n",
        "# You can write up to 20GB to the current directory (/kaggle/working/) that gets preserved as output when you create a version using \"Save & Run All\" \n",
        "# You can also write temporary files to /kaggle/temp/, but they won't be saved outside of the current session"
      ],
      "execution_count": null,
      "outputs": [
        {
          "output_type": "stream",
          "text": [
            "/kaggle/input/crop-recommendation-dataset/Crop_recommendation.csv\n",
            "/kaggle/input/crop-soilcsv/soil.csv\n",
            "/kaggle/input/fertilizer-npk/inorganic_fertilizers_npk_value.csv\n"
          ],
          "name": "stdout"
        }
      ]
    },
    {
      "cell_type": "code",
      "metadata": {
        "execution": {
          "iopub.execute_input": "2021-03-22T16:33:58.955641Z",
          "iopub.status.busy": "2021-03-22T16:33:58.954858Z",
          "iopub.status.idle": "2021-03-22T16:33:58.978583Z",
          "shell.execute_reply": "2021-03-22T16:33:58.977977Z"
        },
        "papermill": {
          "duration": 0.044371,
          "end_time": "2021-03-22T16:33:58.978786",
          "exception": false,
          "start_time": "2021-03-22T16:33:58.934415",
          "status": "completed"
        },
        "tags": [],
        "id": "EF3oMt4ipz_L",
        "outputId": "85736c81-225d-43a9-ebdf-d5c4f23d78c8"
      },
      "source": [
        "crop=pd.read_csv(\"../input/crop-recommendation-dataset/Crop_recommendation.csv\")\n",
        "crop.shape"
      ],
      "execution_count": null,
      "outputs": [
        {
          "output_type": "execute_result",
          "data": {
            "text/plain": [
              "(2200, 8)"
            ]
          },
          "metadata": {
            "tags": []
          },
          "execution_count": 2
        }
      ]
    },
    {
      "cell_type": "code",
      "metadata": {
        "execution": {
          "iopub.execute_input": "2021-03-22T16:33:59.027312Z",
          "iopub.status.busy": "2021-03-22T16:33:59.018973Z",
          "iopub.status.idle": "2021-03-22T16:33:59.039506Z",
          "shell.execute_reply": "2021-03-22T16:33:59.038518Z"
        },
        "papermill": {
          "duration": 0.044203,
          "end_time": "2021-03-22T16:33:59.039627",
          "exception": false,
          "start_time": "2021-03-22T16:33:58.995424",
          "status": "completed"
        },
        "tags": [],
        "id": "ZvWg66Jzpz_P",
        "outputId": "edc22987-a235-42c1-9fb2-0e85abd1668d"
      },
      "source": [
        "crop.head()"
      ],
      "execution_count": null,
      "outputs": [
        {
          "output_type": "execute_result",
          "data": {
            "text/html": [
              "<div>\n",
              "<style scoped>\n",
              "    .dataframe tbody tr th:only-of-type {\n",
              "        vertical-align: middle;\n",
              "    }\n",
              "\n",
              "    .dataframe tbody tr th {\n",
              "        vertical-align: top;\n",
              "    }\n",
              "\n",
              "    .dataframe thead th {\n",
              "        text-align: right;\n",
              "    }\n",
              "</style>\n",
              "<table border=\"1\" class=\"dataframe\">\n",
              "  <thead>\n",
              "    <tr style=\"text-align: right;\">\n",
              "      <th></th>\n",
              "      <th>N</th>\n",
              "      <th>P</th>\n",
              "      <th>K</th>\n",
              "      <th>temperature</th>\n",
              "      <th>humidity</th>\n",
              "      <th>ph</th>\n",
              "      <th>rainfall</th>\n",
              "      <th>label</th>\n",
              "    </tr>\n",
              "  </thead>\n",
              "  <tbody>\n",
              "    <tr>\n",
              "      <th>0</th>\n",
              "      <td>90</td>\n",
              "      <td>42</td>\n",
              "      <td>43</td>\n",
              "      <td>20.879744</td>\n",
              "      <td>82.002744</td>\n",
              "      <td>6.502985</td>\n",
              "      <td>202.935536</td>\n",
              "      <td>rice</td>\n",
              "    </tr>\n",
              "    <tr>\n",
              "      <th>1</th>\n",
              "      <td>85</td>\n",
              "      <td>58</td>\n",
              "      <td>41</td>\n",
              "      <td>21.770462</td>\n",
              "      <td>80.319644</td>\n",
              "      <td>7.038096</td>\n",
              "      <td>226.655537</td>\n",
              "      <td>rice</td>\n",
              "    </tr>\n",
              "    <tr>\n",
              "      <th>2</th>\n",
              "      <td>60</td>\n",
              "      <td>55</td>\n",
              "      <td>44</td>\n",
              "      <td>23.004459</td>\n",
              "      <td>82.320763</td>\n",
              "      <td>7.840207</td>\n",
              "      <td>263.964248</td>\n",
              "      <td>rice</td>\n",
              "    </tr>\n",
              "    <tr>\n",
              "      <th>3</th>\n",
              "      <td>74</td>\n",
              "      <td>35</td>\n",
              "      <td>40</td>\n",
              "      <td>26.491096</td>\n",
              "      <td>80.158363</td>\n",
              "      <td>6.980401</td>\n",
              "      <td>242.864034</td>\n",
              "      <td>rice</td>\n",
              "    </tr>\n",
              "    <tr>\n",
              "      <th>4</th>\n",
              "      <td>78</td>\n",
              "      <td>42</td>\n",
              "      <td>42</td>\n",
              "      <td>20.130175</td>\n",
              "      <td>81.604873</td>\n",
              "      <td>7.628473</td>\n",
              "      <td>262.717340</td>\n",
              "      <td>rice</td>\n",
              "    </tr>\n",
              "  </tbody>\n",
              "</table>\n",
              "</div>"
            ],
            "text/plain": [
              "    N   P   K  temperature   humidity        ph    rainfall label\n",
              "0  90  42  43    20.879744  82.002744  6.502985  202.935536  rice\n",
              "1  85  58  41    21.770462  80.319644  7.038096  226.655537  rice\n",
              "2  60  55  44    23.004459  82.320763  7.840207  263.964248  rice\n",
              "3  74  35  40    26.491096  80.158363  6.980401  242.864034  rice\n",
              "4  78  42  42    20.130175  81.604873  7.628473  262.717340  rice"
            ]
          },
          "metadata": {
            "tags": []
          },
          "execution_count": 3
        }
      ]
    },
    {
      "cell_type": "code",
      "metadata": {
        "execution": {
          "iopub.execute_input": "2021-03-22T16:33:59.081869Z",
          "iopub.status.busy": "2021-03-22T16:33:59.080838Z",
          "iopub.status.idle": "2021-03-22T16:33:59.089384Z",
          "shell.execute_reply": "2021-03-22T16:33:59.089896Z"
        },
        "papermill": {
          "duration": 0.033063,
          "end_time": "2021-03-22T16:33:59.090053",
          "exception": false,
          "start_time": "2021-03-22T16:33:59.056990",
          "status": "completed"
        },
        "tags": [],
        "id": "ZU9Oxwc_pz_S",
        "outputId": "bb499336-7657-4d1a-9a80-9c9a7b896414"
      },
      "source": [
        "crop['N'].describe()"
      ],
      "execution_count": null,
      "outputs": [
        {
          "output_type": "execute_result",
          "data": {
            "text/plain": [
              "count    2200.000000\n",
              "mean       50.551818\n",
              "std        36.917334\n",
              "min         0.000000\n",
              "25%        21.000000\n",
              "50%        37.000000\n",
              "75%        84.250000\n",
              "max       140.000000\n",
              "Name: N, dtype: float64"
            ]
          },
          "metadata": {
            "tags": []
          },
          "execution_count": 4
        }
      ]
    },
    {
      "cell_type": "code",
      "metadata": {
        "execution": {
          "iopub.execute_input": "2021-03-22T16:33:59.132925Z",
          "iopub.status.busy": "2021-03-22T16:33:59.130244Z",
          "iopub.status.idle": "2021-03-22T16:33:59.138862Z",
          "shell.execute_reply": "2021-03-22T16:33:59.139360Z"
        },
        "papermill": {
          "duration": 0.031694,
          "end_time": "2021-03-22T16:33:59.139497",
          "exception": false,
          "start_time": "2021-03-22T16:33:59.107803",
          "status": "completed"
        },
        "tags": [],
        "id": "c42f0aJvpz_V",
        "outputId": "e430aa5c-5c20-4f96-e339-df7db14ac6fd"
      },
      "source": [
        "crop['P'].describe()"
      ],
      "execution_count": null,
      "outputs": [
        {
          "output_type": "execute_result",
          "data": {
            "text/plain": [
              "count    2200.000000\n",
              "mean       53.362727\n",
              "std        32.985883\n",
              "min         5.000000\n",
              "25%        28.000000\n",
              "50%        51.000000\n",
              "75%        68.000000\n",
              "max       145.000000\n",
              "Name: P, dtype: float64"
            ]
          },
          "metadata": {
            "tags": []
          },
          "execution_count": 5
        }
      ]
    },
    {
      "cell_type": "code",
      "metadata": {
        "execution": {
          "iopub.execute_input": "2021-03-22T16:33:59.184951Z",
          "iopub.status.busy": "2021-03-22T16:33:59.181733Z",
          "iopub.status.idle": "2021-03-22T16:33:59.191742Z",
          "shell.execute_reply": "2021-03-22T16:33:59.190980Z"
        },
        "papermill": {
          "duration": 0.034239,
          "end_time": "2021-03-22T16:33:59.191896",
          "exception": false,
          "start_time": "2021-03-22T16:33:59.157657",
          "status": "completed"
        },
        "tags": [],
        "id": "JrEsWtoypz_X",
        "outputId": "6d8de6ba-61aa-406e-8d57-ea8f4feb4b45"
      },
      "source": [
        "crop['K'].describe()"
      ],
      "execution_count": null,
      "outputs": [
        {
          "output_type": "execute_result",
          "data": {
            "text/plain": [
              "count    2200.000000\n",
              "mean       48.149091\n",
              "std        50.647931\n",
              "min         5.000000\n",
              "25%        20.000000\n",
              "50%        32.000000\n",
              "75%        49.000000\n",
              "max       205.000000\n",
              "Name: K, dtype: float64"
            ]
          },
          "metadata": {
            "tags": []
          },
          "execution_count": 6
        }
      ]
    },
    {
      "cell_type": "code",
      "metadata": {
        "execution": {
          "iopub.execute_input": "2021-03-22T16:33:59.239002Z",
          "iopub.status.busy": "2021-03-22T16:33:59.238211Z",
          "iopub.status.idle": "2021-03-22T16:33:59.261578Z",
          "shell.execute_reply": "2021-03-22T16:33:59.260737Z"
        },
        "papermill": {
          "duration": 0.049704,
          "end_time": "2021-03-22T16:33:59.261738",
          "exception": false,
          "start_time": "2021-03-22T16:33:59.212034",
          "status": "completed"
        },
        "tags": [],
        "id": "pO7HNYVYpz_Z",
        "outputId": "fdace71a-106f-434d-8a3f-be30edf8885b"
      },
      "source": [
        "crop['label'].describe()"
      ],
      "execution_count": null,
      "outputs": [
        {
          "output_type": "execute_result",
          "data": {
            "text/plain": [
              "count        2200\n",
              "unique         22\n",
              "top       coconut\n",
              "freq          100\n",
              "Name: label, dtype: object"
            ]
          },
          "metadata": {
            "tags": []
          },
          "execution_count": 7
        }
      ]
    },
    {
      "cell_type": "code",
      "metadata": {
        "execution": {
          "iopub.execute_input": "2021-03-22T16:33:59.307178Z",
          "iopub.status.busy": "2021-03-22T16:33:59.306498Z",
          "iopub.status.idle": "2021-03-22T16:33:59.314967Z",
          "shell.execute_reply": "2021-03-22T16:33:59.314373Z"
        },
        "papermill": {
          "duration": 0.033783,
          "end_time": "2021-03-22T16:33:59.315294",
          "exception": false,
          "start_time": "2021-03-22T16:33:59.281511",
          "status": "completed"
        },
        "tags": [],
        "id": "Rhs82J4Npz_b",
        "outputId": "de5ff029-5412-4278-de8f-70d2a84963e9"
      },
      "source": [
        "crop['label'].unique()"
      ],
      "execution_count": null,
      "outputs": [
        {
          "output_type": "execute_result",
          "data": {
            "text/plain": [
              "array(['rice', 'maize', 'chickpea', 'kidneybeans', 'pigeonpeas',\n",
              "       'mothbeans', 'mungbean', 'blackgram', 'lentil', 'pomegranate',\n",
              "       'banana', 'mango', 'grapes', 'watermelon', 'muskmelon', 'apple',\n",
              "       'orange', 'papaya', 'coconut', 'cotton', 'jute', 'coffee'],\n",
              "      dtype=object)"
            ]
          },
          "metadata": {
            "tags": []
          },
          "execution_count": 8
        }
      ]
    },
    {
      "cell_type": "markdown",
      "metadata": {
        "papermill": {
          "duration": 0.019861,
          "end_time": "2021-03-22T16:33:59.355475",
          "exception": false,
          "start_time": "2021-03-22T16:33:59.335614",
          "status": "completed"
        },
        "tags": [],
        "id": "V4tug543pz_d"
      },
      "source": [
        "# **custom soiltype dataset**"
      ]
    },
    {
      "cell_type": "code",
      "metadata": {
        "execution": {
          "iopub.execute_input": "2021-03-22T16:33:59.400010Z",
          "iopub.status.busy": "2021-03-22T16:33:59.399429Z",
          "iopub.status.idle": "2021-03-22T16:33:59.414014Z",
          "shell.execute_reply": "2021-03-22T16:33:59.412028Z"
        },
        "papermill": {
          "duration": 0.039182,
          "end_time": "2021-03-22T16:33:59.414171",
          "exception": false,
          "start_time": "2021-03-22T16:33:59.374989",
          "status": "completed"
        },
        "tags": [],
        "id": "NFlHh-iSpz_g",
        "outputId": "65b56daf-2d86-4fd8-a274-f6987fb24f78"
      },
      "source": [
        "soil=pd.read_csv(\"../input/crop-soilcsv/soil.csv\")\n",
        "soil.head()"
      ],
      "execution_count": null,
      "outputs": [
        {
          "output_type": "execute_result",
          "data": {
            "text/html": [
              "<div>\n",
              "<style scoped>\n",
              "    .dataframe tbody tr th:only-of-type {\n",
              "        vertical-align: middle;\n",
              "    }\n",
              "\n",
              "    .dataframe tbody tr th {\n",
              "        vertical-align: top;\n",
              "    }\n",
              "\n",
              "    .dataframe thead th {\n",
              "        text-align: right;\n",
              "    }\n",
              "</style>\n",
              "<table border=\"1\" class=\"dataframe\">\n",
              "  <thead>\n",
              "    <tr style=\"text-align: right;\">\n",
              "      <th></th>\n",
              "      <th>crop</th>\n",
              "      <th>soil</th>\n",
              "    </tr>\n",
              "  </thead>\n",
              "  <tbody>\n",
              "    <tr>\n",
              "      <th>0</th>\n",
              "      <td>rice</td>\n",
              "      <td>loamy</td>\n",
              "    </tr>\n",
              "    <tr>\n",
              "      <th>1</th>\n",
              "      <td>rice</td>\n",
              "      <td>clayey</td>\n",
              "    </tr>\n",
              "    <tr>\n",
              "      <th>2</th>\n",
              "      <td>maize</td>\n",
              "      <td>loamy</td>\n",
              "    </tr>\n",
              "    <tr>\n",
              "      <th>3</th>\n",
              "      <td>maize</td>\n",
              "      <td>clayey</td>\n",
              "    </tr>\n",
              "    <tr>\n",
              "      <th>4</th>\n",
              "      <td>chickpea</td>\n",
              "      <td>sandy</td>\n",
              "    </tr>\n",
              "  </tbody>\n",
              "</table>\n",
              "</div>"
            ],
            "text/plain": [
              "       crop    soil\n",
              "0      rice   loamy\n",
              "1      rice  clayey\n",
              "2     maize   loamy\n",
              "3     maize  clayey\n",
              "4  chickpea   sandy"
            ]
          },
          "metadata": {
            "tags": []
          },
          "execution_count": 9
        }
      ]
    },
    {
      "cell_type": "code",
      "metadata": {
        "execution": {
          "iopub.execute_input": "2021-03-22T16:33:59.461646Z",
          "iopub.status.busy": "2021-03-22T16:33:59.460172Z",
          "iopub.status.idle": "2021-03-22T16:33:59.462406Z",
          "shell.execute_reply": "2021-03-22T16:33:59.462891Z"
        },
        "papermill": {
          "duration": 0.028666,
          "end_time": "2021-03-22T16:33:59.463029",
          "exception": false,
          "start_time": "2021-03-22T16:33:59.434363",
          "status": "completed"
        },
        "tags": [],
        "id": "ddSoc4jgpz_i"
      },
      "source": [
        "soil.rename(columns = {'crop':'label'}, inplace = True) "
      ],
      "execution_count": null,
      "outputs": []
    },
    {
      "cell_type": "code",
      "metadata": {
        "execution": {
          "iopub.execute_input": "2021-03-22T16:33:59.512304Z",
          "iopub.status.busy": "2021-03-22T16:33:59.511259Z",
          "iopub.status.idle": "2021-03-22T16:33:59.516584Z",
          "shell.execute_reply": "2021-03-22T16:33:59.517039Z"
        },
        "papermill": {
          "duration": 0.034082,
          "end_time": "2021-03-22T16:33:59.517203",
          "exception": false,
          "start_time": "2021-03-22T16:33:59.483121",
          "status": "completed"
        },
        "tags": [],
        "id": "Dayhnj-Wpz_k",
        "outputId": "024f4bb0-3d39-48ff-87fd-9d8250b82dbe"
      },
      "source": [
        "soil.head()"
      ],
      "execution_count": null,
      "outputs": [
        {
          "output_type": "execute_result",
          "data": {
            "text/html": [
              "<div>\n",
              "<style scoped>\n",
              "    .dataframe tbody tr th:only-of-type {\n",
              "        vertical-align: middle;\n",
              "    }\n",
              "\n",
              "    .dataframe tbody tr th {\n",
              "        vertical-align: top;\n",
              "    }\n",
              "\n",
              "    .dataframe thead th {\n",
              "        text-align: right;\n",
              "    }\n",
              "</style>\n",
              "<table border=\"1\" class=\"dataframe\">\n",
              "  <thead>\n",
              "    <tr style=\"text-align: right;\">\n",
              "      <th></th>\n",
              "      <th>label</th>\n",
              "      <th>soil</th>\n",
              "    </tr>\n",
              "  </thead>\n",
              "  <tbody>\n",
              "    <tr>\n",
              "      <th>0</th>\n",
              "      <td>rice</td>\n",
              "      <td>loamy</td>\n",
              "    </tr>\n",
              "    <tr>\n",
              "      <th>1</th>\n",
              "      <td>rice</td>\n",
              "      <td>clayey</td>\n",
              "    </tr>\n",
              "    <tr>\n",
              "      <th>2</th>\n",
              "      <td>maize</td>\n",
              "      <td>loamy</td>\n",
              "    </tr>\n",
              "    <tr>\n",
              "      <th>3</th>\n",
              "      <td>maize</td>\n",
              "      <td>clayey</td>\n",
              "    </tr>\n",
              "    <tr>\n",
              "      <th>4</th>\n",
              "      <td>chickpea</td>\n",
              "      <td>sandy</td>\n",
              "    </tr>\n",
              "  </tbody>\n",
              "</table>\n",
              "</div>"
            ],
            "text/plain": [
              "      label    soil\n",
              "0      rice   loamy\n",
              "1      rice  clayey\n",
              "2     maize   loamy\n",
              "3     maize  clayey\n",
              "4  chickpea   sandy"
            ]
          },
          "metadata": {
            "tags": []
          },
          "execution_count": 11
        }
      ]
    },
    {
      "cell_type": "markdown",
      "metadata": {
        "papermill": {
          "duration": 0.021899,
          "end_time": "2021-03-22T16:33:59.559721",
          "exception": false,
          "start_time": "2021-03-22T16:33:59.537822",
          "status": "completed"
        },
        "tags": [],
        "id": "6T1CCyQ8pz_m"
      },
      "source": [
        "# final dataset merging"
      ]
    },
    {
      "cell_type": "code",
      "metadata": {
        "execution": {
          "iopub.execute_input": "2021-03-22T16:33:59.614314Z",
          "iopub.status.busy": "2021-03-22T16:33:59.612910Z",
          "iopub.status.idle": "2021-03-22T16:33:59.620120Z",
          "shell.execute_reply": "2021-03-22T16:33:59.619636Z"
        },
        "papermill": {
          "duration": 0.03877,
          "end_time": "2021-03-22T16:33:59.620265",
          "exception": false,
          "start_time": "2021-03-22T16:33:59.581495",
          "status": "completed"
        },
        "tags": [],
        "id": "-0eeiIgVpz_n"
      },
      "source": [
        "final = pd.merge(crop, soil, on ='label') "
      ],
      "execution_count": null,
      "outputs": []
    },
    {
      "cell_type": "code",
      "metadata": {
        "execution": {
          "iopub.execute_input": "2021-03-22T16:33:59.678852Z",
          "iopub.status.busy": "2021-03-22T16:33:59.677913Z",
          "iopub.status.idle": "2021-03-22T16:33:59.683047Z",
          "shell.execute_reply": "2021-03-22T16:33:59.682538Z"
        },
        "papermill": {
          "duration": 0.041315,
          "end_time": "2021-03-22T16:33:59.683204",
          "exception": false,
          "start_time": "2021-03-22T16:33:59.641889",
          "status": "completed"
        },
        "tags": [],
        "id": "Dbbm-04Kpz_p",
        "outputId": "f95d80d0-06ea-4d8c-9d81-efba517ca9e0"
      },
      "source": [
        "final.head()"
      ],
      "execution_count": null,
      "outputs": [
        {
          "output_type": "execute_result",
          "data": {
            "text/html": [
              "<div>\n",
              "<style scoped>\n",
              "    .dataframe tbody tr th:only-of-type {\n",
              "        vertical-align: middle;\n",
              "    }\n",
              "\n",
              "    .dataframe tbody tr th {\n",
              "        vertical-align: top;\n",
              "    }\n",
              "\n",
              "    .dataframe thead th {\n",
              "        text-align: right;\n",
              "    }\n",
              "</style>\n",
              "<table border=\"1\" class=\"dataframe\">\n",
              "  <thead>\n",
              "    <tr style=\"text-align: right;\">\n",
              "      <th></th>\n",
              "      <th>N</th>\n",
              "      <th>P</th>\n",
              "      <th>K</th>\n",
              "      <th>temperature</th>\n",
              "      <th>humidity</th>\n",
              "      <th>ph</th>\n",
              "      <th>rainfall</th>\n",
              "      <th>label</th>\n",
              "      <th>soil</th>\n",
              "    </tr>\n",
              "  </thead>\n",
              "  <tbody>\n",
              "    <tr>\n",
              "      <th>0</th>\n",
              "      <td>90</td>\n",
              "      <td>42</td>\n",
              "      <td>43</td>\n",
              "      <td>20.879744</td>\n",
              "      <td>82.002744</td>\n",
              "      <td>6.502985</td>\n",
              "      <td>202.935536</td>\n",
              "      <td>rice</td>\n",
              "      <td>loamy</td>\n",
              "    </tr>\n",
              "    <tr>\n",
              "      <th>1</th>\n",
              "      <td>90</td>\n",
              "      <td>42</td>\n",
              "      <td>43</td>\n",
              "      <td>20.879744</td>\n",
              "      <td>82.002744</td>\n",
              "      <td>6.502985</td>\n",
              "      <td>202.935536</td>\n",
              "      <td>rice</td>\n",
              "      <td>clayey</td>\n",
              "    </tr>\n",
              "    <tr>\n",
              "      <th>2</th>\n",
              "      <td>85</td>\n",
              "      <td>58</td>\n",
              "      <td>41</td>\n",
              "      <td>21.770462</td>\n",
              "      <td>80.319644</td>\n",
              "      <td>7.038096</td>\n",
              "      <td>226.655537</td>\n",
              "      <td>rice</td>\n",
              "      <td>loamy</td>\n",
              "    </tr>\n",
              "    <tr>\n",
              "      <th>3</th>\n",
              "      <td>85</td>\n",
              "      <td>58</td>\n",
              "      <td>41</td>\n",
              "      <td>21.770462</td>\n",
              "      <td>80.319644</td>\n",
              "      <td>7.038096</td>\n",
              "      <td>226.655537</td>\n",
              "      <td>rice</td>\n",
              "      <td>clayey</td>\n",
              "    </tr>\n",
              "    <tr>\n",
              "      <th>4</th>\n",
              "      <td>60</td>\n",
              "      <td>55</td>\n",
              "      <td>44</td>\n",
              "      <td>23.004459</td>\n",
              "      <td>82.320763</td>\n",
              "      <td>7.840207</td>\n",
              "      <td>263.964248</td>\n",
              "      <td>rice</td>\n",
              "      <td>loamy</td>\n",
              "    </tr>\n",
              "  </tbody>\n",
              "</table>\n",
              "</div>"
            ],
            "text/plain": [
              "    N   P   K  temperature   humidity        ph    rainfall label    soil\n",
              "0  90  42  43    20.879744  82.002744  6.502985  202.935536  rice   loamy\n",
              "1  90  42  43    20.879744  82.002744  6.502985  202.935536  rice  clayey\n",
              "2  85  58  41    21.770462  80.319644  7.038096  226.655537  rice   loamy\n",
              "3  85  58  41    21.770462  80.319644  7.038096  226.655537  rice  clayey\n",
              "4  60  55  44    23.004459  82.320763  7.840207  263.964248  rice   loamy"
            ]
          },
          "metadata": {
            "tags": []
          },
          "execution_count": 13
        }
      ]
    },
    {
      "cell_type": "code",
      "metadata": {
        "execution": {
          "iopub.execute_input": "2021-03-22T16:33:59.735556Z",
          "iopub.status.busy": "2021-03-22T16:33:59.734340Z",
          "iopub.status.idle": "2021-03-22T16:33:59.764494Z",
          "shell.execute_reply": "2021-03-22T16:33:59.765056Z"
        },
        "papermill": {
          "duration": 0.060467,
          "end_time": "2021-03-22T16:33:59.765262",
          "exception": false,
          "start_time": "2021-03-22T16:33:59.704795",
          "status": "completed"
        },
        "tags": [],
        "id": "JSJ5h9ARpz_q",
        "outputId": "08344186-8cc0-4502-81ac-b169a0f1e040"
      },
      "source": [
        "final.describe()"
      ],
      "execution_count": null,
      "outputs": [
        {
          "output_type": "execute_result",
          "data": {
            "text/html": [
              "<div>\n",
              "<style scoped>\n",
              "    .dataframe tbody tr th:only-of-type {\n",
              "        vertical-align: middle;\n",
              "    }\n",
              "\n",
              "    .dataframe tbody tr th {\n",
              "        vertical-align: top;\n",
              "    }\n",
              "\n",
              "    .dataframe thead th {\n",
              "        text-align: right;\n",
              "    }\n",
              "</style>\n",
              "<table border=\"1\" class=\"dataframe\">\n",
              "  <thead>\n",
              "    <tr style=\"text-align: right;\">\n",
              "      <th></th>\n",
              "      <th>N</th>\n",
              "      <th>P</th>\n",
              "      <th>K</th>\n",
              "      <th>temperature</th>\n",
              "      <th>humidity</th>\n",
              "      <th>ph</th>\n",
              "      <th>rainfall</th>\n",
              "    </tr>\n",
              "  </thead>\n",
              "  <tbody>\n",
              "    <tr>\n",
              "      <th>count</th>\n",
              "      <td>4200.000000</td>\n",
              "      <td>4200.000000</td>\n",
              "      <td>4200.000000</td>\n",
              "      <td>4200.000000</td>\n",
              "      <td>4200.000000</td>\n",
              "      <td>4200.000000</td>\n",
              "      <td>4200.000000</td>\n",
              "    </tr>\n",
              "    <tr>\n",
              "      <th>mean</th>\n",
              "      <td>50.602857</td>\n",
              "      <td>53.564286</td>\n",
              "      <td>47.132619</td>\n",
              "      <td>25.251938</td>\n",
              "      <td>66.006550</td>\n",
              "      <td>6.461486</td>\n",
              "      <td>112.217093</td>\n",
              "    </tr>\n",
              "    <tr>\n",
              "      <th>std</th>\n",
              "      <td>35.424926</td>\n",
              "      <td>30.262182</td>\n",
              "      <td>46.234302</td>\n",
              "      <td>5.252465</td>\n",
              "      <td>25.792847</td>\n",
              "      <td>0.780216</td>\n",
              "      <td>55.682125</td>\n",
              "    </tr>\n",
              "    <tr>\n",
              "      <th>min</th>\n",
              "      <td>0.000000</td>\n",
              "      <td>5.000000</td>\n",
              "      <td>5.000000</td>\n",
              "      <td>8.825675</td>\n",
              "      <td>14.258040</td>\n",
              "      <td>3.504752</td>\n",
              "      <td>20.211267</td>\n",
              "    </tr>\n",
              "    <tr>\n",
              "      <th>25%</th>\n",
              "      <td>23.000000</td>\n",
              "      <td>31.000000</td>\n",
              "      <td>21.000000</td>\n",
              "      <td>21.811676</td>\n",
              "      <td>50.829480</td>\n",
              "      <td>5.933683</td>\n",
              "      <td>69.867126</td>\n",
              "    </tr>\n",
              "    <tr>\n",
              "      <th>50%</th>\n",
              "      <td>38.000000</td>\n",
              "      <td>55.000000</td>\n",
              "      <td>32.000000</td>\n",
              "      <td>25.242051</td>\n",
              "      <td>75.474122</td>\n",
              "      <td>6.417942</td>\n",
              "      <td>97.318949</td>\n",
              "    </tr>\n",
              "    <tr>\n",
              "      <th>75%</th>\n",
              "      <td>82.000000</td>\n",
              "      <td>68.000000</td>\n",
              "      <td>49.000000</td>\n",
              "      <td>28.200543</td>\n",
              "      <td>86.643042</td>\n",
              "      <td>6.932537</td>\n",
              "      <td>151.076190</td>\n",
              "    </tr>\n",
              "    <tr>\n",
              "      <th>max</th>\n",
              "      <td>140.000000</td>\n",
              "      <td>145.000000</td>\n",
              "      <td>205.000000</td>\n",
              "      <td>43.675493</td>\n",
              "      <td>99.981876</td>\n",
              "      <td>9.935091</td>\n",
              "      <td>298.560117</td>\n",
              "    </tr>\n",
              "  </tbody>\n",
              "</table>\n",
              "</div>"
            ],
            "text/plain": [
              "                 N            P            K  temperature     humidity  \\\n",
              "count  4200.000000  4200.000000  4200.000000  4200.000000  4200.000000   \n",
              "mean     50.602857    53.564286    47.132619    25.251938    66.006550   \n",
              "std      35.424926    30.262182    46.234302     5.252465    25.792847   \n",
              "min       0.000000     5.000000     5.000000     8.825675    14.258040   \n",
              "25%      23.000000    31.000000    21.000000    21.811676    50.829480   \n",
              "50%      38.000000    55.000000    32.000000    25.242051    75.474122   \n",
              "75%      82.000000    68.000000    49.000000    28.200543    86.643042   \n",
              "max     140.000000   145.000000   205.000000    43.675493    99.981876   \n",
              "\n",
              "                ph     rainfall  \n",
              "count  4200.000000  4200.000000  \n",
              "mean      6.461486   112.217093  \n",
              "std       0.780216    55.682125  \n",
              "min       3.504752    20.211267  \n",
              "25%       5.933683    69.867126  \n",
              "50%       6.417942    97.318949  \n",
              "75%       6.932537   151.076190  \n",
              "max       9.935091   298.560117  "
            ]
          },
          "metadata": {
            "tags": []
          },
          "execution_count": 14
        }
      ]
    },
    {
      "cell_type": "code",
      "metadata": {
        "execution": {
          "iopub.execute_input": "2021-03-22T16:33:59.816242Z",
          "iopub.status.busy": "2021-03-22T16:33:59.815292Z",
          "iopub.status.idle": "2021-03-22T16:33:59.819017Z",
          "shell.execute_reply": "2021-03-22T16:33:59.819628Z"
        },
        "papermill": {
          "duration": 0.032219,
          "end_time": "2021-03-22T16:33:59.819774",
          "exception": false,
          "start_time": "2021-03-22T16:33:59.787555",
          "status": "completed"
        },
        "tags": [],
        "id": "Cqng-V67pz_s"
      },
      "source": [
        "final = final[[ 'N', 'P', 'K','temperature', 'humidity', 'ph', 'rainfall', 'soil','label']]"
      ],
      "execution_count": null,
      "outputs": []
    },
    {
      "cell_type": "code",
      "metadata": {
        "execution": {
          "iopub.execute_input": "2021-03-22T16:33:59.868937Z",
          "iopub.status.busy": "2021-03-22T16:33:59.868231Z",
          "iopub.status.idle": "2021-03-22T16:34:00.079615Z",
          "shell.execute_reply": "2021-03-22T16:34:00.079019Z"
        },
        "papermill": {
          "duration": 0.237473,
          "end_time": "2021-03-22T16:34:00.079755",
          "exception": false,
          "start_time": "2021-03-22T16:33:59.842282",
          "status": "completed"
        },
        "tags": [],
        "id": "MwzUxOFypz_t"
      },
      "source": [
        "final.to_csv(\"./FinalcropPrediction.csv\",index=False)"
      ],
      "execution_count": null,
      "outputs": []
    },
    {
      "cell_type": "markdown",
      "metadata": {
        "papermill": {
          "duration": 0.022001,
          "end_time": "2021-03-22T16:34:00.123993",
          "exception": false,
          "start_time": "2021-03-22T16:34:00.101992",
          "status": "completed"
        },
        "tags": [],
        "id": "zvd-F3Cdpz_v"
      },
      "source": [
        "# fertilizer prediction dataset"
      ]
    },
    {
      "cell_type": "code",
      "metadata": {
        "execution": {
          "iopub.execute_input": "2021-03-22T16:34:00.173843Z",
          "iopub.status.busy": "2021-03-22T16:34:00.173169Z",
          "iopub.status.idle": "2021-03-22T16:34:00.189829Z",
          "shell.execute_reply": "2021-03-22T16:34:00.189169Z"
        },
        "papermill": {
          "duration": 0.04291,
          "end_time": "2021-03-22T16:34:00.189981",
          "exception": false,
          "start_time": "2021-03-22T16:34:00.147071",
          "status": "completed"
        },
        "tags": [],
        "id": "vwuZGNAXpz_w",
        "outputId": "7ef56200-3754-463d-f293-4372af8b5177"
      },
      "source": [
        "ferti=pd.read_csv(\"../input/fertilizer-npk/inorganic_fertilizers_npk_value.csv\",encoding ='latin1')\n",
        "ferti.head()"
      ],
      "execution_count": null,
      "outputs": [
        {
          "output_type": "execute_result",
          "data": {
            "text/html": [
              "<div>\n",
              "<style scoped>\n",
              "    .dataframe tbody tr th:only-of-type {\n",
              "        vertical-align: middle;\n",
              "    }\n",
              "\n",
              "    .dataframe tbody tr th {\n",
              "        vertical-align: top;\n",
              "    }\n",
              "\n",
              "    .dataframe thead th {\n",
              "        text-align: right;\n",
              "    }\n",
              "</style>\n",
              "<table border=\"1\" class=\"dataframe\">\n",
              "  <thead>\n",
              "    <tr style=\"text-align: right;\">\n",
              "      <th></th>\n",
              "      <th>Fertilizer</th>\n",
              "      <th>N</th>\n",
              "      <th>P</th>\n",
              "      <th>K</th>\n",
              "    </tr>\n",
              "  </thead>\n",
              "  <tbody>\n",
              "    <tr>\n",
              "      <th>0</th>\n",
              "      <td>Diammonium Phosphate</td>\n",
              "      <td>18</td>\n",
              "      <td>46</td>\n",
              "      <td>0</td>\n",
              "    </tr>\n",
              "    <tr>\n",
              "      <th>1</th>\n",
              "      <td>Diammonium Phosphate</td>\n",
              "      <td>16</td>\n",
              "      <td>44</td>\n",
              "      <td>0</td>\n",
              "    </tr>\n",
              "    <tr>\n",
              "      <th>2</th>\n",
              "      <td>ÿAmmonium Phosphate Sulphate</td>\n",
              "      <td>16</td>\n",
              "      <td>20</td>\n",
              "      <td>0</td>\n",
              "    </tr>\n",
              "    <tr>\n",
              "      <th>3</th>\n",
              "      <td>ÿAmmonium Phosphate Sulphate</td>\n",
              "      <td>20</td>\n",
              "      <td>20</td>\n",
              "      <td>0</td>\n",
              "    </tr>\n",
              "    <tr>\n",
              "      <th>4</th>\n",
              "      <td>ÿAmmonium Phosphate Sulphate Nitrateÿ</td>\n",
              "      <td>20</td>\n",
              "      <td>20</td>\n",
              "      <td>0</td>\n",
              "    </tr>\n",
              "  </tbody>\n",
              "</table>\n",
              "</div>"
            ],
            "text/plain": [
              "                              Fertilizer   N   P  K\n",
              "0                   Diammonium Phosphate  18  46  0\n",
              "1                   Diammonium Phosphate  16  44  0\n",
              "2           ÿAmmonium Phosphate Sulphate  16  20  0\n",
              "3           ÿAmmonium Phosphate Sulphate  20  20  0\n",
              "4  ÿAmmonium Phosphate Sulphate Nitrateÿ  20  20  0"
            ]
          },
          "metadata": {
            "tags": []
          },
          "execution_count": 17
        }
      ]
    },
    {
      "cell_type": "code",
      "metadata": {
        "execution": {
          "iopub.execute_input": "2021-03-22T16:34:00.249959Z",
          "iopub.status.busy": "2021-03-22T16:34:00.248851Z",
          "iopub.status.idle": "2021-03-22T16:34:00.254571Z",
          "shell.execute_reply": "2021-03-22T16:34:00.253869Z"
        },
        "papermill": {
          "duration": 0.041918,
          "end_time": "2021-03-22T16:34:00.254718",
          "exception": false,
          "start_time": "2021-03-22T16:34:00.212800",
          "status": "completed"
        },
        "tags": [],
        "id": "T4OHettRpz_y",
        "outputId": "470b434f-1991-45e5-bd44-253e4f24c324"
      },
      "source": [
        "ferti['P']=ferti['P']*3\n",
        "ferti['K']=ferti['K']*3\n",
        "ferti['N']=ferti['N']*3\n",
        "ferti.head()"
      ],
      "execution_count": null,
      "outputs": [
        {
          "output_type": "execute_result",
          "data": {
            "text/html": [
              "<div>\n",
              "<style scoped>\n",
              "    .dataframe tbody tr th:only-of-type {\n",
              "        vertical-align: middle;\n",
              "    }\n",
              "\n",
              "    .dataframe tbody tr th {\n",
              "        vertical-align: top;\n",
              "    }\n",
              "\n",
              "    .dataframe thead th {\n",
              "        text-align: right;\n",
              "    }\n",
              "</style>\n",
              "<table border=\"1\" class=\"dataframe\">\n",
              "  <thead>\n",
              "    <tr style=\"text-align: right;\">\n",
              "      <th></th>\n",
              "      <th>Fertilizer</th>\n",
              "      <th>N</th>\n",
              "      <th>P</th>\n",
              "      <th>K</th>\n",
              "    </tr>\n",
              "  </thead>\n",
              "  <tbody>\n",
              "    <tr>\n",
              "      <th>0</th>\n",
              "      <td>Diammonium Phosphate</td>\n",
              "      <td>54</td>\n",
              "      <td>138</td>\n",
              "      <td>0</td>\n",
              "    </tr>\n",
              "    <tr>\n",
              "      <th>1</th>\n",
              "      <td>Diammonium Phosphate</td>\n",
              "      <td>48</td>\n",
              "      <td>132</td>\n",
              "      <td>0</td>\n",
              "    </tr>\n",
              "    <tr>\n",
              "      <th>2</th>\n",
              "      <td>ÿAmmonium Phosphate Sulphate</td>\n",
              "      <td>48</td>\n",
              "      <td>60</td>\n",
              "      <td>0</td>\n",
              "    </tr>\n",
              "    <tr>\n",
              "      <th>3</th>\n",
              "      <td>ÿAmmonium Phosphate Sulphate</td>\n",
              "      <td>60</td>\n",
              "      <td>60</td>\n",
              "      <td>0</td>\n",
              "    </tr>\n",
              "    <tr>\n",
              "      <th>4</th>\n",
              "      <td>ÿAmmonium Phosphate Sulphate Nitrateÿ</td>\n",
              "      <td>60</td>\n",
              "      <td>60</td>\n",
              "      <td>0</td>\n",
              "    </tr>\n",
              "  </tbody>\n",
              "</table>\n",
              "</div>"
            ],
            "text/plain": [
              "                              Fertilizer   N    P  K\n",
              "0                   Diammonium Phosphate  54  138  0\n",
              "1                   Diammonium Phosphate  48  132  0\n",
              "2           ÿAmmonium Phosphate Sulphate  48   60  0\n",
              "3           ÿAmmonium Phosphate Sulphate  60   60  0\n",
              "4  ÿAmmonium Phosphate Sulphate Nitrateÿ  60   60  0"
            ]
          },
          "metadata": {
            "tags": []
          },
          "execution_count": 18
        }
      ]
    },
    {
      "cell_type": "code",
      "metadata": {
        "execution": {
          "iopub.execute_input": "2021-03-22T16:34:00.315860Z",
          "iopub.status.busy": "2021-03-22T16:34:00.314794Z",
          "iopub.status.idle": "2021-03-22T16:34:00.332048Z",
          "shell.execute_reply": "2021-03-22T16:34:00.331537Z"
        },
        "papermill": {
          "duration": 0.05279,
          "end_time": "2021-03-22T16:34:00.332203",
          "exception": false,
          "start_time": "2021-03-22T16:34:00.279413",
          "status": "completed"
        },
        "tags": [],
        "id": "gNNHjqpBpz_z",
        "outputId": "1239d9f8-dbe4-47d5-d095-ff5bc3ae3b13"
      },
      "source": [
        "ferti.describe()"
      ],
      "execution_count": null,
      "outputs": [
        {
          "output_type": "execute_result",
          "data": {
            "text/html": [
              "<div>\n",
              "<style scoped>\n",
              "    .dataframe tbody tr th:only-of-type {\n",
              "        vertical-align: middle;\n",
              "    }\n",
              "\n",
              "    .dataframe tbody tr th {\n",
              "        vertical-align: top;\n",
              "    }\n",
              "\n",
              "    .dataframe thead th {\n",
              "        text-align: right;\n",
              "    }\n",
              "</style>\n",
              "<table border=\"1\" class=\"dataframe\">\n",
              "  <thead>\n",
              "    <tr style=\"text-align: right;\">\n",
              "      <th></th>\n",
              "      <th>N</th>\n",
              "      <th>P</th>\n",
              "      <th>K</th>\n",
              "    </tr>\n",
              "  </thead>\n",
              "  <tbody>\n",
              "    <tr>\n",
              "      <th>count</th>\n",
              "      <td>51.000000</td>\n",
              "      <td>51.000000</td>\n",
              "      <td>51.000000</td>\n",
              "    </tr>\n",
              "    <tr>\n",
              "      <th>mean</th>\n",
              "      <td>47.352941</td>\n",
              "      <td>72.352941</td>\n",
              "      <td>37.176471</td>\n",
              "    </tr>\n",
              "    <tr>\n",
              "      <th>std</th>\n",
              "      <td>15.087509</td>\n",
              "      <td>39.136593</td>\n",
              "      <td>35.694092</td>\n",
              "    </tr>\n",
              "    <tr>\n",
              "      <th>min</th>\n",
              "      <td>0.000000</td>\n",
              "      <td>0.000000</td>\n",
              "      <td>0.000000</td>\n",
              "    </tr>\n",
              "    <tr>\n",
              "      <th>25%</th>\n",
              "      <td>37.500000</td>\n",
              "      <td>45.000000</td>\n",
              "      <td>0.000000</td>\n",
              "    </tr>\n",
              "    <tr>\n",
              "      <th>50%</th>\n",
              "      <td>45.000000</td>\n",
              "      <td>60.000000</td>\n",
              "      <td>42.000000</td>\n",
              "    </tr>\n",
              "    <tr>\n",
              "      <th>75%</th>\n",
              "      <td>58.500000</td>\n",
              "      <td>90.000000</td>\n",
              "      <td>57.000000</td>\n",
              "    </tr>\n",
              "    <tr>\n",
              "      <th>max</th>\n",
              "      <td>84.000000</td>\n",
              "      <td>183.000000</td>\n",
              "      <td>135.000000</td>\n",
              "    </tr>\n",
              "  </tbody>\n",
              "</table>\n",
              "</div>"
            ],
            "text/plain": [
              "               N           P           K\n",
              "count  51.000000   51.000000   51.000000\n",
              "mean   47.352941   72.352941   37.176471\n",
              "std    15.087509   39.136593   35.694092\n",
              "min     0.000000    0.000000    0.000000\n",
              "25%    37.500000   45.000000    0.000000\n",
              "50%    45.000000   60.000000   42.000000\n",
              "75%    58.500000   90.000000   57.000000\n",
              "max    84.000000  183.000000  135.000000"
            ]
          },
          "metadata": {
            "tags": []
          },
          "execution_count": 19
        }
      ]
    },
    {
      "cell_type": "code",
      "metadata": {
        "execution": {
          "iopub.execute_input": "2021-03-22T16:34:00.389552Z",
          "iopub.status.busy": "2021-03-22T16:34:00.388710Z",
          "iopub.status.idle": "2021-03-22T16:34:01.755619Z",
          "shell.execute_reply": "2021-03-22T16:34:01.754992Z"
        },
        "papermill": {
          "duration": 1.396482,
          "end_time": "2021-03-22T16:34:01.755772",
          "exception": false,
          "start_time": "2021-03-22T16:34:00.359290",
          "status": "completed"
        },
        "tags": [],
        "id": "r8QiQTCppz_1"
      },
      "source": [
        "from sklearn.svm import SVC   \n",
        "clf = SVC(kernel='linear')\n"
      ],
      "execution_count": null,
      "outputs": []
    },
    {
      "cell_type": "code",
      "metadata": {
        "execution": {
          "iopub.execute_input": "2021-03-22T16:34:01.813048Z",
          "iopub.status.busy": "2021-03-22T16:34:01.812260Z",
          "iopub.status.idle": "2021-03-22T16:34:01.828119Z",
          "shell.execute_reply": "2021-03-22T16:34:01.828997Z"
        },
        "papermill": {
          "duration": 0.047417,
          "end_time": "2021-03-22T16:34:01.829226",
          "exception": false,
          "start_time": "2021-03-22T16:34:01.781809",
          "status": "completed"
        },
        "tags": [],
        "id": "tThOh54rpz_2",
        "outputId": "cbed8428-c17a-45b4-9aa8-d118493e158e"
      },
      "source": [
        "data=np.asarray(ferti)\n",
        "x=data[:,1:4]\n",
        "y=data[:,0:1]\n",
        "clf.fit(x, y)"
      ],
      "execution_count": null,
      "outputs": [
        {
          "output_type": "stream",
          "text": [
            "/opt/conda/lib/python3.7/site-packages/sklearn/utils/validation.py:63: DataConversionWarning: A column-vector y was passed when a 1d array was expected. Please change the shape of y to (n_samples, ), for example using ravel().\n",
            "  return f(*args, **kwargs)\n"
          ],
          "name": "stderr"
        },
        {
          "output_type": "execute_result",
          "data": {
            "text/plain": [
              "SVC(kernel='linear')"
            ]
          },
          "metadata": {
            "tags": []
          },
          "execution_count": 21
        }
      ]
    },
    {
      "cell_type": "code",
      "metadata": {
        "execution": {
          "iopub.execute_input": "2021-03-22T16:34:01.886593Z",
          "iopub.status.busy": "2021-03-22T16:34:01.885439Z",
          "iopub.status.idle": "2021-03-22T16:34:01.889906Z",
          "shell.execute_reply": "2021-03-22T16:34:01.890434Z"
        },
        "papermill": {
          "duration": 0.035314,
          "end_time": "2021-03-22T16:34:01.890614",
          "exception": false,
          "start_time": "2021-03-22T16:34:01.855300",
          "status": "completed"
        },
        "tags": [],
        "id": "3PWS9Xxvpz_4",
        "outputId": "56b0cfc1-be39-45e0-cca8-83f9ec770e80"
      },
      "source": [
        "clf.predict([[50,50,50]])"
      ],
      "execution_count": null,
      "outputs": [
        {
          "output_type": "execute_result",
          "data": {
            "text/plain": [
              "array(['N.P.K. (17-17-17)'], dtype=object)"
            ]
          },
          "metadata": {
            "tags": []
          },
          "execution_count": 22
        }
      ]
    },
    {
      "cell_type": "code",
      "metadata": {
        "papermill": {
          "duration": 0.025756,
          "end_time": "2021-03-22T16:34:01.942316",
          "exception": false,
          "start_time": "2021-03-22T16:34:01.916560",
          "status": "completed"
        },
        "tags": [],
        "id": "KPfX85NQpz_5"
      },
      "source": [
        ""
      ],
      "execution_count": null,
      "outputs": []
    }
  ]
}